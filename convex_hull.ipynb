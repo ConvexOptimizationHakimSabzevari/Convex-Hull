import numpy as np
import networkx as nx
import math
import random

#Find the angle between two vectors
def angle_of_two_vectors(Can_point,Cur_point,Pre_point):
  Can_Cur_points_vector=Can_point-Cur_point
  Pre_Cur_points_vector=Pre_point-Cur_point
  Internal_mul=Can_Cur_points_vector.dot(Pre_Cur_points_vector)
  size=np.linalg.norm(Can_Cur_points_vector)
  size=size*np.linalg.norm(Pre_Cur_points_vector)
  teta=np.arccos(Internal_mul/(size))
  return teta

G = nx.Graph()

#Generate random points
n=0
while n<3:
  n=int(input("Enter the number of points, please more than 3:"))
random_point=[]
for i in range(n):
  random_point.append([random.randrange(-10, 10),random.randrange(-10, 10)])
pos= np.array(random_point)

candidate_points=[]#A set of candidate point indices to select the next point in the convex path
for i in range(pos.shape[0]):
  candidate_points.append(i)
G.add_nodes_from(candidate_points)#Set all points as graph vertices
convex_path=[]
Current_point=np.argmin(pos[:,1])#We start the beginning of the path with a point where the second component of its coordinates is the smallest
convex_path.append(Current_point)
Previous_point=pos[Current_point]-np.array([1,0])#At the beginning of the path, we generate a virtual point using the coordinates of the current point for the previous point

#In each repetition of the while loop, a point is selected that has the largest angle between the desired vectors
while (len(convex_path)==1 or convex_path[0]!=convex_path[len(convex_path)-1]) :
  max_angle=-math.inf
  convex_path.append([])
  for i in candidate_points:
    if i==convex_path[len(convex_path)-1] or (i==convex_path[0] and len(convex_path)-1<=2) :
      continue
    angle=angle_of_two_vectors(pos[i],pos[Current_point],Previous_point)
    if max_angle<angle:
      max_angle=angle
      convex_path[len(convex_path)-1]=i
  Previous_point=pos[Current_point]
  Current_point=convex_path[len(convex_path)-1]
  candidate_points.pop( candidate_points.index(convex_path[len(convex_path)-1]))

#Setting the edges of the graph
for i in range(len(convex_path)):
  if i==len(convex_path)-1:
    break
  G.add_edge(convex_path[i],convex_path[i+1])

#Graph vertices coloring
color_list=[]
for i in range(pos.shape[0]):
  for j in convex_path:
    if i==j:
      color_list.append("red")
      break
  if i+1>len(color_list):
    color_list.append("blue")

#Draw a graph
nx.draw(G,pos,with_labels=True,node_color=color_list)
